{
 "cells": [
  {
   "cell_type": "markdown",
   "id": "d8d91d60-3c65-4b95-a06d-c16ac285799a",
   "metadata": {},
   "source": [
    "# PREDICTING PENGUIN CLASS FROM DEPLOYED MODEL"
   ]
  },
  {
   "cell_type": "markdown",
   "id": "a2cf8765-3ea9-41f6-956b-283fdea16171",
   "metadata": {},
   "source": [
    "In this notebook, we predict the penguin spice based on their:\n",
    "- island\n",
    "- bill length\n",
    "- bill depth\n",
    "- flipped length\n",
    "- body mass"
   ]
  },
  {
   "cell_type": "markdown",
   "id": "f63e7c67-8dda-42ce-8ae1-aa8936e14130",
   "metadata": {},
   "source": [
    "We will use a Gradient Boosting algorithm that we have registered in MLFlow"
   ]
  },
  {
   "cell_type": "markdown",
   "id": "b3b97325-3356-45c4-b759-edda004e147d",
   "metadata": {},
   "source": [
    "#### Python imports"
   ]
  },
  {
   "cell_type": "code",
   "execution_count": 1,
   "id": "72c54967-9b6b-45e8-9f8a-d09a2a88695d",
   "metadata": {},
   "outputs": [
    {
     "name": "stderr",
     "output_type": "stream",
     "text": [
      "\u001b[32m2024-10-02 23:34:54.602\u001b[0m | \u001b[1mINFO    \u001b[0m | \u001b[36mVitalMetrics.config\u001b[0m:\u001b[36m<module>\u001b[0m:\u001b[36m10\u001b[0m - \u001b[1mPROJ_ROOT path is: /usr/local/lib/python3.10/site-packages\u001b[0m\n"
     ]
    }
   ],
   "source": [
    "import requests\n",
    "import pandas as pd\n",
    "from pathlib import Path\n",
    "import pickle\n",
    "from sklearn.metrics import confusion_matrix, ConfusionMatrixDisplay\n",
    "from VitalMetrics.config import PROCESSED_DATA_DIR, RAW_DATA_DIR\n",
    "from VitalMetrics.features import feature_engineering"
   ]
  },
  {
   "cell_type": "markdown",
   "id": "6015f1fa-8bdb-48ae-a3b2-f55895f35408",
   "metadata": {},
   "source": [
    "#### Define parameters"
   ]
  },
  {
   "cell_type": "code",
   "execution_count": 2,
   "id": "c272b605-b9a1-4fac-846a-8b9be2cebb6d",
   "metadata": {},
   "outputs": [],
   "source": [
    "# test_data_path = Path(PROCESSED_DATA_DIR /\"penguin_test_features.csv\")\n",
    "test_data_path = Path(\"data/penguins_test.csv\")\n",
    "model_type = \"Gradient Boosting\""
   ]
  },
  {
   "cell_type": "markdown",
   "id": "61404641-3e6e-4486-b863-8c5c95985322",
   "metadata": {},
   "source": [
    "## PREDICTIONS WITH DEPLOYED MODEL"
   ]
  },
  {
   "cell_type": "markdown",
   "id": "d5cf40e8-6b4d-4451-8fdd-558b81cbcd59",
   "metadata": {},
   "source": [
    "### Retrieving the model"
   ]
  },
  {
   "cell_type": "code",
   "execution_count": 3,
   "id": "c3488b81-b1fd-4dde-a3c5-bae1a851f5a6",
   "metadata": {},
   "outputs": [],
   "source": [
    "with open(Path(\"ML_artifacts/model.pkl\"), \"rb\") as f:\n",
    "    model = pickle.load(f)"
   ]
  },
  {
   "cell_type": "markdown",
   "id": "5ca78e2e-3076-4b2c-a294-90975751f94c",
   "metadata": {},
   "source": [
    "### Opening test data"
   ]
  },
  {
   "cell_type": "code",
   "execution_count": 4,
   "id": "ba16e02c-8ff3-40e1-b556-d4f14aec8ef1",
   "metadata": {},
   "outputs": [
    {
     "name": "stderr",
     "output_type": "stream",
     "text": [
      "\u001b[32m2024-10-02 23:34:57.332\u001b[0m | \u001b[1mINFO    \u001b[0m | \u001b[36mVitalMetrics.features\u001b[0m:\u001b[36mfeature_engineering\u001b[0m:\u001b[36m12\u001b[0m - \u001b[1mStarting feature engineering...\u001b[0m\n",
      "\u001b[32m2024-10-02 23:34:57.336\u001b[0m | \u001b[1mINFO    \u001b[0m | \u001b[36mVitalMetrics.features\u001b[0m:\u001b[36mfeature_engineering\u001b[0m:\u001b[36m31\u001b[0m - \u001b[1mApplying label encoding on categorical features...\u001b[0m\n",
      "\u001b[32m2024-10-02 23:34:57.344\u001b[0m | \u001b[1mINFO    \u001b[0m | \u001b[36mVitalMetrics.features\u001b[0m:\u001b[36mfeature_engineering\u001b[0m:\u001b[36m44\u001b[0m - \u001b[1mFeature engineering completed.\u001b[0m\n"
     ]
    }
   ],
   "source": [
    "df = pd.read_csv(test_data_path)\n",
    "df = feature_engineering(df)\n",
    "features = df.drop(columns=[\"id\", \"species\"]).values.tolist()\n",
    "true_class = df.species.values"
   ]
  },
  {
   "cell_type": "code",
   "execution_count": 6,
   "id": "7c47b18f-ed66-45b1-9a83-8ac413964520",
   "metadata": {},
   "outputs": [
    {
     "name": "stderr",
     "output_type": "stream",
     "text": [
      "\u001b[32m2024-10-02 23:35:15.998\u001b[0m | \u001b[1mINFO    \u001b[0m | \u001b[36mVitalMetrics.classifier\u001b[0m:\u001b[36mpredict\u001b[0m:\u001b[36m65\u001b[0m - \u001b[1mMaking predictions on the test data...\u001b[0m\n"
     ]
    }
   ],
   "source": [
    "penguin_predicted_species = model.predict(features)"
   ]
  },
  {
   "cell_type": "markdown",
   "id": "6acff870-571e-45b1-a631-2ce63225c08f",
   "metadata": {},
   "source": [
    "### EVALUATE PREDICTIONS"
   ]
  },
  {
   "cell_type": "code",
   "execution_count": 7,
   "id": "4786ff1f-b49c-4e8c-b370-ccdd01efdda5",
   "metadata": {},
   "outputs": [
    {
     "data": {
      "text/plain": [
       "<sklearn.metrics._plot.confusion_matrix.ConfusionMatrixDisplay at 0xffff5808f310>"
      ]
     },
     "execution_count": 7,
     "metadata": {},
     "output_type": "execute_result"
    },
    {
     "data": {
      "image/png": "[encoded data removed]",
      "text/plain": [
       "<Figure size 640x480 with 2 Axes>"
      ]
     },
     "metadata": {},
     "output_type": "display_data"
    }
   ],
   "source": [
    "cm = confusion_matrix(true_class, penguin_predicted_species)\n",
    "disp = ConfusionMatrixDisplay(confusion_matrix=cm)\n",
    "disp.plot()"
   ]
  },
  {
   "cell_type": "code",
   "execution_count": null,
   "id": "4a2bafa4-4876-4eda-bc40-5206b918b637",
   "metadata": {},
   "outputs": [],
   "source": []
  }
 ],
 "metadata": {
  "kernelspec": {
   "display_name": "Python 3 (ipykernel)",
   "language": "python",
   "name": "python3"
  },
  "language_info": {
   "codemirror_mode": {
    "name": "ipython",
    "version": 3
   },
   "file_extension": ".py",
   "mimetype": "text/x-python",
   "name": "python",
   "nbconvert_exporter": "python",
   "pygments_lexer": "ipython3",
   "version": "3.10.15"
  }
 },
 "nbformat": 4,
 "nbformat_minor": 5
}
